{
 "cells": [
  {
   "cell_type": "markdown",
   "metadata": {
    "id": "yVA8YNPEiFpu"
   },
   "source": [
    "# Data Collection"
   ]
  },
  {
   "cell_type": "code",
   "execution_count": 1,
   "metadata": {
    "id": "hpx495Ylh6hx"
   },
   "outputs": [],
   "source": [
    "# !pip install kaggle"
   ]
  },
  {
   "cell_type": "code",
   "execution_count": null,
   "metadata": {
    "id": "8_aRcyFFaEFS"
   },
   "outputs": [],
   "source": [
    "from google.colab import files\n",
    "\n",
    "files.upload()"
   ]
  },
  {
   "cell_type": "code",
   "execution_count": 3,
   "metadata": {
    "colab": {
     "base_uri": "https://localhost:8080/"
    },
    "id": "p0ZZwdwDZXge",
    "outputId": "4e7bce07-6e78-4ad4-dcb2-264959f5dc9e",
    "scrolled": true
   },
   "outputs": [
    {
     "name": "stdout",
     "output_type": "stream",
     "text": [
      "mkdir: cannot create directory ‘/root/.kaggle’: File exists\n"
     ]
    }
   ],
   "source": [
    "! mkdir ~/.kaggle\n",
    "\n",
    "! cp kaggle.json ~/.kaggle/"
   ]
  },
  {
   "cell_type": "code",
   "execution_count": 4,
   "metadata": {
    "id": "jBpeRMGOZXkj"
   },
   "outputs": [],
   "source": [
    "! chmod 600 ~/.kaggle/kaggle.json"
   ]
  },
  {
   "cell_type": "code",
   "execution_count": 5,
   "metadata": {
    "colab": {
     "base_uri": "https://localhost:8080/"
    },
    "id": "dyljAsF7ZXoR",
    "outputId": "0605eec6-22e2-45f1-bbb5-72b0d38edb10"
   },
   "outputs": [
    {
     "name": "stdout",
     "output_type": "stream",
     "text": [
      "ref                                                             title                                               size  lastUpdated          downloadCount  voteCount  usabilityRating  \n",
      "--------------------------------------------------------------  ------------------------------------------------  ------  -------------------  -------------  ---------  ---------------  \n",
      "akshaydattatraykhare/diabetes-dataset                           Diabetes Dataset                                     9KB  2022-10-06 08:55:25           6919        220  1.0              \n",
      "whenamancodes/covid-19-coronavirus-pandemic-dataset             COVID -19 Coronavirus Pandemic Dataset              11KB  2022-09-30 04:05:11           5568        180  1.0              \n",
      "akshaydattatraykhare/car-details-dataset                        Car Details Dataset                                 56KB  2022-10-21 06:11:56           1381         32  1.0              \n",
      "whenamancodes/students-performance-in-exams                     Students Performance in Exams                        9KB  2022-09-14 15:14:54          10000        186  1.0              \n",
      "abiodunonadeji/united-state-superstore-sales                    Superstore Sales                                  1002KB  2022-10-08 10:47:57           2042         35  0.7647059        \n",
      "thedevastator/udemy-courses-revenue-generation-and-course-anal  Udemy Courses                                      429KB  2022-10-17 00:11:53            943         38  1.0              \n",
      "vittoriogiatti/bigmacprice                                      Bigmac Prices                                       14KB  2022-10-19 21:11:14           1661         44  1.0              \n",
      "utkarshsaxenadn/vegetable-classifier-acc-9987                   Vegetable Classifier | ResNet50V2 | Acc : 99.87%    89MB  2022-10-21 01:29:02            464         29  1.0              \n",
      "thedevastator/fast-food-restaurants-in-the-united-states        Fast Food Restaurants in the United States           4MB  2022-10-08 17:30:38           1829         50  1.0              \n",
      "whenamancodes/alcohol-effects-on-study                          Alcohol Effects On Study                            18KB  2022-09-15 03:21:04           6021        110  1.0              \n",
      "whenamancodes/student-performance                               Student Performance                                104KB  2022-10-07 05:14:47           6162        140  1.0              \n",
      "narayan63/netflix-popular-movies-dataset                        Netflix popular movies dataset                       1MB  2022-09-24 08:23:22           4316         66  0.9411765        \n",
      "whenamancodes/airbnb-inc-stock-market-analysis                  Airbnb, Inc. Stock Market Analysis                  10KB  2022-10-02 05:44:12            822         36  1.0              \n",
      "eliasturk/world-happiness-based-on-cpi-20152020                 Happiness and Corruption 2015-2020                  29KB  2022-10-11 22:35:03           1226         35  1.0              \n",
      "dansbecker/melbourne-housing-snapshot                           Melbourne Housing Snapshot                         451KB  2018-06-05 12:52:24          98596       1161  0.7058824        \n",
      "arslanali4343/covid19-data-from-world                           COVID-19 data from World                            11MB  2022-10-02 05:56:12           1700         95  0.9411765        \n",
      "whenamancodes/flight-delay-prediction                           Flight Delay Prediction                             31MB  2022-10-07 05:26:20           1876         41  0.88235295       \n",
      "thedevastator/popularity-of-spotify-top-tracks-by-genre         Popularity of Spotify Top Tracks by Genre            9MB  2022-10-18 17:55:53            757         29  0.7647059        \n",
      "anushabellam/cars-cars-2                                        Cars_India_dataset                                   4KB  2022-10-12 06:34:20           1036         33  1.0              \n",
      "thedevastator/disney-character-success-a-comprehensive-analysi  Disney Character Success                            39KB  2022-10-08 17:07:22           1142         35  1.0              \n"
     ]
    }
   ],
   "source": [
    "! kaggle datasets list"
   ]
  },
  {
   "cell_type": "code",
   "execution_count": 6,
   "metadata": {
    "colab": {
     "base_uri": "https://localhost:8080/"
    },
    "id": "qMreGu7KaUuX",
    "outputId": "03bc1ec8-8401-4091-eaa4-2170f0ed29a0"
   },
   "outputs": [
    {
     "name": "stdout",
     "output_type": "stream",
     "text": [
      "Downloading admission-predict.zip to /content\n",
      "\r",
      "  0% 0.00/4.30k [00:00<?, ?B/s]\n",
      "\r",
      "100% 4.30k/4.30k [00:00<00:00, 6.62MB/s]\n"
     ]
    }
   ],
   "source": [
    "! kaggle datasets download -d rishal005/admission-predict"
   ]
  },
  {
   "cell_type": "code",
   "execution_count": 7,
   "metadata": {
    "colab": {
     "base_uri": "https://localhost:8080/"
    },
    "id": "__fjme1paUrr",
    "outputId": "fc26963d-51c7-43b1-987e-a3e9581eceb5"
   },
   "outputs": [
    {
     "name": "stdout",
     "output_type": "stream",
     "text": [
      "admission-predict.zip  kaggle.json  \u001b[0m\u001b[01;34msample_data\u001b[0m/\n"
     ]
    }
   ],
   "source": [
    "ls"
   ]
  },
  {
   "cell_type": "code",
   "execution_count": 8,
   "metadata": {
    "colab": {
     "base_uri": "https://localhost:8080/"
    },
    "id": "hQzZWieBbIVe",
    "outputId": "a0316c98-9fa1-4577-c3da-ba5c098bf652"
   },
   "outputs": [
    {
     "name": "stdout",
     "output_type": "stream",
     "text": [
      "Archive:  admission-predict.zip\n",
      "  inflating: Admission_Predict.csv   \n"
     ]
    }
   ],
   "source": [
    "!unzip admission-predict.zip  && rm admission-predict.zip"
   ]
  }
 ],
 "metadata": {
  "colab": {
   "provenance": []
  },
  "kernelspec": {
   "display_name": "Python 3 (ipykernel)",
   "language": "python",
   "name": "python3"
  },
  "language_info": {
   "codemirror_mode": {
    "name": "ipython",
    "version": 3
   },
   "file_extension": ".py",
   "mimetype": "text/x-python",
   "name": "python",
   "nbconvert_exporter": "python",
   "pygments_lexer": "ipython3",
   "version": "3.9.12"
  }
 },
 "nbformat": 4,
 "nbformat_minor": 1
}
